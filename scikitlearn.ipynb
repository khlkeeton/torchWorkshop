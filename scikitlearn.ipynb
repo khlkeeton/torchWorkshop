{
  "cells": [
    {
      "cell_type": "markdown",
      "metadata": {
        "id": "oAf6artNkL8D"
      },
      "source": [
        "# Scikit learn"
      ]
    },
    {
      "cell_type": "code",
      "source": [
        "!pip install scikit-learn"
      ],
      "metadata": {
        "colab": {
          "base_uri": "https://localhost:8080/"
        },
        "id": "2P4ndtG9m9nt",
        "outputId": "a1cb7f76-c2ef-4f0a-d473-a351f4f88682"
      },
      "execution_count": null,
      "outputs": [
        {
          "output_type": "stream",
          "name": "stdout",
          "text": [
            "Requirement already satisfied: scikit-learn in /usr/local/lib/python3.10/dist-packages (1.2.2)\n",
            "Requirement already satisfied: numpy>=1.17.3 in /usr/local/lib/python3.10/dist-packages (from scikit-learn) (1.25.2)\n",
            "Requirement already satisfied: scipy>=1.3.2 in /usr/local/lib/python3.10/dist-packages (from scikit-learn) (1.11.4)\n",
            "Requirement already satisfied: joblib>=1.1.1 in /usr/local/lib/python3.10/dist-packages (from scikit-learn) (1.3.2)\n",
            "Requirement already satisfied: threadpoolctl>=2.0.0 in /usr/local/lib/python3.10/dist-packages (from scikit-learn) (3.4.0)\n"
          ]
        }
      ]
    },
    {
      "cell_type": "markdown",
      "source": [
        "We will perform a linear regression algorithm."
      ],
      "metadata": {
        "id": "lpQUgT85on57"
      }
    },
    {
      "cell_type": "code",
      "source": [
        "import pandas as pd\n",
        "from sklearn.model_selection import train_test_split\n",
        "from sklearn.linear_model import LinearRegression\n",
        "from sklearn.metrics import mean_squared_error\n",
        "from sklearn.metrics import r2_score"
      ],
      "metadata": {
        "id": "XBodb41WnrhO"
      },
      "execution_count": null,
      "outputs": []
    },
    {
      "cell_type": "markdown",
      "source": [
        "Dataset"
      ],
      "metadata": {
        "id": "dC7HD1sMo0qA"
      }
    },
    {
      "cell_type": "code",
      "source": [],
      "metadata": {
        "id": "9ihSh7t2o2Eb"
      },
      "execution_count": 3,
      "outputs": []
    },
    {
      "cell_type": "markdown",
      "source": [
        "Some quick data analysis"
      ],
      "metadata": {
        "id": "v2m6w6s7pLYB"
      }
    },
    {
      "cell_type": "code",
      "source": [],
      "metadata": {
        "id": "3h0OEiGLpK_v"
      },
      "execution_count": 3,
      "outputs": []
    },
    {
      "cell_type": "markdown",
      "source": [
        "heat map"
      ],
      "metadata": {
        "id": "WWJ7wLIEpVe_"
      }
    },
    {
      "cell_type": "code",
      "source": [],
      "metadata": {
        "id": "6N_oYfiTpaBO"
      },
      "execution_count": 3,
      "outputs": []
    },
    {
      "cell_type": "markdown",
      "source": [
        "Finally, a dotplot"
      ],
      "metadata": {
        "id": "UJCgGu_Gpu0t"
      }
    },
    {
      "cell_type": "code",
      "source": [],
      "metadata": {
        "id": "_zqh40FYpsKw"
      },
      "execution_count": 3,
      "outputs": []
    },
    {
      "cell_type": "markdown",
      "source": [
        "Get rid of noise"
      ],
      "metadata": {
        "id": "hSiPYTWlp7KG"
      }
    },
    {
      "cell_type": "code",
      "source": [],
      "metadata": {
        "id": "fk4Qwqzpp8nU"
      },
      "execution_count": 3,
      "outputs": []
    },
    {
      "cell_type": "markdown",
      "source": [
        "Split the data for testing"
      ],
      "metadata": {
        "id": "0s0UNlb2qBBz"
      }
    },
    {
      "cell_type": "code",
      "source": [],
      "metadata": {
        "id": "RQcrNLJMqFEO"
      },
      "execution_count": null,
      "outputs": []
    },
    {
      "cell_type": "markdown",
      "source": [
        "Train the model"
      ],
      "metadata": {
        "id": "P1PCXSlaqTd4"
      }
    },
    {
      "cell_type": "code",
      "source": [],
      "metadata": {
        "id": "oYYeGjrpqWzh"
      },
      "execution_count": 3,
      "outputs": []
    },
    {
      "cell_type": "markdown",
      "source": [
        "Analyze the model"
      ],
      "metadata": {
        "id": "n0xnPFG3qbhv"
      }
    },
    {
      "cell_type": "markdown",
      "source": [
        "The training data analysis is kind of useless....but its an example"
      ],
      "metadata": {
        "id": "r4U--PRzqll3"
      }
    },
    {
      "cell_type": "code",
      "source": [],
      "metadata": {
        "id": "H3GBIVf4qU8a"
      },
      "execution_count": null,
      "outputs": []
    },
    {
      "cell_type": "code",
      "source": [
        "print(\"The model performance for training set\")\n",
        "print(\"--------------------------------------\")\n",
        "print('RMSE is {}'.format(rmse))\n",
        "print('R2 score is {}'.format(r2))\n",
        "print(\"\\n\")"
      ],
      "metadata": {
        "colab": {
          "base_uri": "https://localhost:8080/"
        },
        "id": "O1r1FiBkqhcL",
        "outputId": "9b0f700f-29d1-4c42-d722-c96aaba0f3e0"
      },
      "execution_count": null,
      "outputs": [
        {
          "output_type": "stream",
          "name": "stdout",
          "text": [
            "The model performance for training set\n",
            "--------------------------------------\n",
            "RMSE is 5.291267334085863\n",
            "R2 score is 0.6493177656003104\n",
            "\n",
            "\n"
          ]
        }
      ]
    },
    {
      "cell_type": "markdown",
      "source": [
        "Test the predictions against the test data"
      ],
      "metadata": {
        "id": "PGa9TPLmqwD6"
      }
    },
    {
      "cell_type": "code",
      "source": [],
      "metadata": {
        "id": "3gdQMB4Eqz5d"
      },
      "execution_count": null,
      "outputs": []
    },
    {
      "cell_type": "code",
      "source": [
        "print(\"The model performance for testing set\")\n",
        "print(\"--------------------------------------\")\n",
        "print('RMSE is {}'.format(rmse))\n",
        "print('R2 score is {}'.format(r2))"
      ],
      "metadata": {
        "colab": {
          "base_uri": "https://localhost:8080/"
        },
        "id": "T5R3FdnMq3Ur",
        "outputId": "d178fa60-4afe-44eb-e568-c91720276e97"
      },
      "execution_count": null,
      "outputs": [
        {
          "output_type": "stream",
          "name": "stdout",
          "text": [
            "The model performance for testing set\n",
            "--------------------------------------\n",
            "RMSE is 6.041044703455954\n",
            "R2 score is 0.6162026947666575\n"
          ]
        }
      ]
    }
  ],
  "metadata": {
    "kernelspec": {
      "display_name": "Python 3 (ipykernel)",
      "language": "python",
      "name": "python3"
    },
    "language_info": {
      "codemirror_mode": {
        "name": "ipython",
        "version": 3
      },
      "file_extension": ".py",
      "mimetype": "text/x-python",
      "name": "python",
      "nbconvert_exporter": "python",
      "pygments_lexer": "ipython3",
      "version": "3.10.6"
    },
    "colab": {
      "provenance": []
    }
  },
  "nbformat": 4,
  "nbformat_minor": 0
}